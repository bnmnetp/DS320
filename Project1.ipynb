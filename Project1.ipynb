{
 "cells": [
  {
   "cell_type": "markdown",
   "metadata": {},
   "source": [
    "# Project 1"
   ]
  },
  {
   "cell_type": "markdown",
   "metadata": {},
   "source": [
    "### Goals for project 1\n",
    "\n",
    "1.  Put into practice the Pandas skills you have been developing with the Exercises\n",
    "2.  Put into practice the data gathering and scraping skills\n",
    "3.  Give you a chance to dive into a data set that is interesting to you.\n",
    "4.  Do some simple data visualization on this data set to practice the principles outlined by Tufte\n",
    "\n",
    "### Description\n",
    "\n",
    "This project will serve as a kind of open ended mid-term.\n",
    "\n",
    "Choose a data set that has some interest for you.  There is a list of potential sources below, but you don't have to limit yourself to one of those.  Perhaps you have read an interesting article that grabbed your attention and you want to find data related to that topic, perhaps you have happened on a case study or website that did an interesting visualization.  Its OK to recreate / replicate work that others have done.  In fact it is important to do that, and scientists do this all the time.  If results are not repeatable then they should be viewed with suspicion.  Once you have chosen a dataset then you will propose three investigative questions that you want to ask about the data.  Again these do not have to be original questions, they may come from a previously published result.  You will propose these questions in a Jupyter notebook that you will put on [the project repository](https://classroom.github.com/assignment-invitations/9862b3de0ce47c6584e26668b27ddbc8).  \n",
    "\n",
    "As you do your analysis to answer the questions, you should carefully document your steps in the notebook.  Making your claims, justifying your findings well. The best notebooks will not simply report facts and graphs, but will tell a story by providing answers to some interesting questions.\n",
    "\n",
    "Finally, we will take a class day for everyone to present their results.\n",
    "\n"
   ]
  }
 ],
 "metadata": {
  "kernelspec": {
   "display_name": "Python 3",
   "language": "python",
   "name": "python3"
  },
  "language_info": {
   "codemirror_mode": {
    "name": "ipython",
    "version": 3
   },
   "file_extension": ".py",
   "mimetype": "text/x-python",
   "name": "python",
   "nbconvert_exporter": "python",
   "pygments_lexer": "ipython3",
   "version": "3.5.1"
  }
 },
 "nbformat": 4,
 "nbformat_minor": 0
}
